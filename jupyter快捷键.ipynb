{
 "cells": [
  {
   "cell_type": "markdown",
   "metadata": {},
   "source": [
    "# 命令模式（按键Esc开启）"
   ]
  },
  {
   "cell_type": "markdown",
   "metadata": {},
   "source": [
    "Enter：转入编辑模式\n",
    "Shift+Enter：运行本单元，选中下一个单元\n",
    "Ctrl+Enter：运行本单元\n",
    "Alt+Enter：运行本单元，在其下插入新单元\n",
    "Y:单元转入代码状态\n",
    "M：单元转入markdown状态\n",
    "R：单元转入raw状态\n",
    "1：设定为1级标题\n",
    "2：设定为2级标题\n",
    "3：设定为3级标题\n",
    "Up:选中上方单元\n",
    "Down：选中下方单元\n",
    "A：在上方插入新单元\n",
    "B：在下方插入新单元\n",
    "X：剪切选中的单元\n",
    "C：复制选中的单元\n",
    "V：粘贴到下方单元\n",
    "D:删除选中的单元\n",
    "ctrl+S：文件存盘\n",
    "L:转换行号\n",
    "O：转换输出\n",
    "H：显示快捷键帮助\n"
   ]
  },
  {
   "cell_type": "markdown",
   "metadata": {},
   "source": [
    "# 编辑模式（Enter键启动）"
   ]
  },
  {
   "cell_type": "markdown",
   "metadata": {},
   "source": [
    "Tab : 代码补全或缩进\n",
    "Shift-Tab : 提示\n",
    "Ctrl-] : 缩进\n",
    "Ctrl-[ : 解除缩进\n",
    "Ctrl-A : 全选\n",
    "Ctrl-Z : 复原\n",
    "Ctrl-Shift-Z : 再做\n",
    "Ctrl-Y : 再做\n",
    "Ctrl-Home : 跳到单元开头\n",
    "Ctrl-Up : 跳到单元开头\n",
    "Ctrl-End : 跳到单元末尾\n",
    "Ctrl-Down : 跳到单元末尾\n",
    "Ctrl-Left : 跳到左边一个字首\n",
    "Ctrl-Right : 跳到右边一个字首\n",
    "Ctrl-Backspace : 删除前面一个字\n",
    "Ctrl-Delete : 删除后面一个字\n",
    "Esc : 进入命令模式\n",
    "Ctrl-M : 进入命令模式\n",
    "Shift-Enter : 运行本单元，选中下一单元\n",
    "Ctrl-Enter : 运行本单元\n",
    "Alt-Enter : 运行本单元，在下面插入一单元\n",
    "Ctrl-Shift-- : 分割单元\n",
    "Ctrl-Shift-Subtract : 分割单元\n",
    "Ctrl-S : 文件存盘\n",
    "Shift : 忽略\n",
    "Up : 光标上移或转入上一单元\n",
    "Down :光标下移或转入下一单元"
   ]
  }
 ],
 "metadata": {
  "kernelspec": {
   "display_name": "Python 3",
   "language": "python",
   "name": "python3"
  },
  "language_info": {
   "codemirror_mode": {
    "name": "ipython",
    "version": 3
   },
   "file_extension": ".py",
   "mimetype": "text/x-python",
   "name": "python",
   "nbconvert_exporter": "python",
   "pygments_lexer": "ipython3",
   "version": "3.6.4"
  }
 },
 "nbformat": 4,
 "nbformat_minor": 2
}
